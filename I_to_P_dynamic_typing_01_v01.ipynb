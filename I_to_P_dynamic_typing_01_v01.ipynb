{
  "cells": [
    {
      "cell_type": "markdown",
      "metadata": {
        "id": "view-in-github",
        "colab_type": "text"
      },
      "source": [
        "<a href=\"https://colab.research.google.com/github/Fahmida-7/Introduction-to-Python-for-Health-Research-Course/blob/main/I_to_P_dynamic_typing_01_v01.ipynb\" target=\"_parent\"><img src=\"https://colab.research.google.com/assets/colab-badge.svg\" alt=\"Open In Colab\"/></a>"
      ]
    },
    {
      "cell_type": "markdown",
      "id": "36404fb1",
      "metadata": {
        "id": "36404fb1"
      },
      "source": [
        "# Dynamic Typing\n",
        "\n",
        "Python permits dynamic typing\n",
        "\n",
        "This notebook gives a simple illustration of how dynamic typing works"
      ]
    },
    {
      "cell_type": "markdown",
      "id": "6259484e",
      "metadata": {
        "id": "6259484e"
      },
      "source": [
        "Firstly, we create a numeric variable, x, which has a fractional part:"
      ]
    },
    {
      "cell_type": "code",
      "execution_count": 1,
      "id": "9e6e5d5d",
      "metadata": {
        "colab": {
          "base_uri": "https://localhost:8080/"
        },
        "id": "9e6e5d5d",
        "outputId": "40959d8e-cc82-4a9c-d2fc-bd284877cb35"
      },
      "outputs": [
        {
          "output_type": "stream",
          "name": "stdout",
          "text": [
            "x is:\n",
            "46.7\n",
            "x's type is <class 'float'>\n"
          ]
        }
      ],
      "source": [
        "#\n",
        "# x is numeric, and has a fractional part\n",
        "#\n",
        "x = 46.7\n",
        "#\n",
        "print(\"x is:\")\n",
        "print(x)\n",
        "print(\"x's type is \" + str(type(x)))"
      ]
    },
    {
      "cell_type": "markdown",
      "id": "e8a73958",
      "metadata": {
        "id": "e8a73958"
      },
      "source": [
        "The \"type()\" function reveals that x is an instance of the class \"float\". A floating point number has a fractional part, where the decimal point is not in a fixed position"
      ]
    },
    {
      "cell_type": "markdown",
      "id": "79969795",
      "metadata": {
        "id": "79969795"
      },
      "source": [
        "Now, we assign an integer value to x:"
      ]
    },
    {
      "cell_type": "code",
      "execution_count": 2,
      "id": "f105ea67",
      "metadata": {
        "id": "f105ea67"
      },
      "outputs": [],
      "source": [
        "#\n",
        "# x is numeric, but has no fractional part\n",
        "#\n",
        "x = 3\n",
        "#"
      ]
    },
    {
      "cell_type": "markdown",
      "id": "da1354a9",
      "metadata": {
        "id": "da1354a9"
      },
      "source": [
        "*Can you write code in the cell below to find out the current value of x, and what its type is?*"
      ]
    },
    {
      "cell_type": "code",
      "execution_count": 3,
      "id": "88b8b592",
      "metadata": {
        "colab": {
          "base_uri": "https://localhost:8080/"
        },
        "id": "88b8b592",
        "outputId": "2953dcab-6b3d-4749-bbcd-bbc1d1b3eb5e"
      },
      "outputs": [
        {
          "output_type": "stream",
          "name": "stdout",
          "text": [
            "x is: \n",
            "3\n",
            "x's type is <class 'int'>\n"
          ]
        }
      ],
      "source": [
        "#\n",
        "# You can put your code here\n",
        "#\n",
        "print(\"x is: \")\n",
        "print(x)\n",
        "print(\"x's type is \" + str(type(x)))"
      ]
    },
    {
      "cell_type": "markdown",
      "id": "0f6910f9",
      "metadata": {
        "id": "0f6910f9"
      },
      "source": [
        "You can try assigning other values to x and seeing how its type changes (just add more code cells to this notebook)"
      ]
    },
    {
      "cell_type": "markdown",
      "id": "9f602f7b",
      "metadata": {
        "id": "9f602f7b"
      },
      "source": [
        "Dynamic typing makes it quicker to prototype and experiment with code.\n",
        "\n",
        "It can cause problems in more complex Python programs, where, for example, the program expects x to be a string in a number of places, but a change is made somewhere, setting x to a numeric value"
      ]
    }
  ],
  "metadata": {
    "kernelspec": {
      "display_name": "Python 3 (ipykernel)",
      "language": "python",
      "name": "python3"
    },
    "language_info": {
      "codemirror_mode": {
        "name": "ipython",
        "version": 3
      },
      "file_extension": ".py",
      "mimetype": "text/x-python",
      "name": "python",
      "nbconvert_exporter": "python",
      "pygments_lexer": "ipython3",
      "version": "3.7.13"
    },
    "colab": {
      "provenance": [],
      "include_colab_link": true
    }
  },
  "nbformat": 4,
  "nbformat_minor": 5
}