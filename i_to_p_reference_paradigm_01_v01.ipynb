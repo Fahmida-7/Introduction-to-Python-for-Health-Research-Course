{
  "cells": [
    {
      "cell_type": "markdown",
      "metadata": {
        "id": "view-in-github",
        "colab_type": "text"
      },
      "source": [
        "<a href=\"https://colab.research.google.com/github/Fahmida-7/Introduction-to-Python-for-Health-Research-Course/blob/main/i_to_p_reference_paradigm_01_v01.ipynb\" target=\"_parent\"><img src=\"https://colab.research.google.com/assets/colab-badge.svg\" alt=\"Open In Colab\"/></a>"
      ]
    },
    {
      "cell_type": "markdown",
      "id": "36404fb1",
      "metadata": {
        "id": "36404fb1"
      },
      "source": [
        "# Reference Semantics\n",
        "\n",
        "Python uses a reference paradigm\n",
        "\n",
        "With primitive objects, such as numbers and strings there are rarely any difficulties. But we have to be more careful with more complicated objects such as lists\n",
        "\n",
        "This notebook gives a simple illustration of how the referencing works"
      ]
    },
    {
      "cell_type": "markdown",
      "id": "6259484e",
      "metadata": {
        "id": "6259484e"
      },
      "source": [
        "Firstly, we create a numeric variable, x, and then assign x to another variable, y:"
      ]
    },
    {
      "cell_type": "code",
      "execution_count": null,
      "id": "9e6e5d5d",
      "metadata": {
        "colab": {
          "base_uri": "https://localhost:8080/"
        },
        "id": "9e6e5d5d",
        "outputId": "819a63eb-c550-48fd-8060-4846968b07f2"
      },
      "outputs": [
        {
          "output_type": "stream",
          "name": "stdout",
          "text": [
            "x is 46.7\n",
            "y is 46.7\n"
          ]
        }
      ],
      "source": [
        "#\n",
        "# Set variable x to contain a reference to a memory location, which contains the number 46.7\n",
        "#\n",
        "x = 46.7\n",
        "#\n",
        "# Set variable y to contain the same reference as x\n",
        "#\n",
        "y = x\n",
        "#\n",
        "print(\"x is \" + str(x))\n",
        "print(\"y is \" + str(y))"
      ]
    },
    {
      "cell_type": "markdown",
      "id": "79969795",
      "metadata": {
        "id": "79969795"
      },
      "source": [
        "Now we change the value of x and see if this affects y:"
      ]
    },
    {
      "cell_type": "code",
      "execution_count": null,
      "id": "f105ea67",
      "metadata": {
        "colab": {
          "base_uri": "https://localhost:8080/"
        },
        "id": "f105ea67",
        "outputId": "d9be98f4-02e8-4c17-bd02-4f8bf7b8d9b5"
      },
      "outputs": [
        {
          "output_type": "stream",
          "name": "stdout",
          "text": [
            "x is 17.4\n"
          ]
        }
      ],
      "source": [
        "#\n",
        "# Set variable x to contain a reference to a memory location, which contains the number 17.4\n",
        "#\n",
        "x = 17.4\n",
        "print(\"x is \" + str(x))"
      ]
    },
    {
      "cell_type": "markdown",
      "id": "da1354a9",
      "metadata": {
        "id": "da1354a9"
      },
      "source": [
        "*Can you write code in the cell below to find out the current value of y?*"
      ]
    },
    {
      "cell_type": "code",
      "execution_count": null,
      "id": "88b8b592",
      "metadata": {
        "colab": {
          "base_uri": "https://localhost:8080/"
        },
        "id": "88b8b592",
        "outputId": "98f6f3da-32ba-4ace-f8af-a62dcc6dde35"
      },
      "outputs": [
        {
          "output_type": "stream",
          "name": "stdout",
          "text": [
            "y is: 46.7\n"
          ]
        }
      ],
      "source": [
        "#\n",
        "# You can put your code here\n",
        "#\n",
        "print(\"y is: \" + str(y))"
      ]
    },
    {
      "cell_type": "markdown",
      "id": "0f6910f9",
      "metadata": {
        "id": "0f6910f9"
      },
      "source": [
        "Secondly, we create a simple list object which contains 3 numbers, and assign it to the variable a, and then assign a to another variable, b:"
      ]
    },
    {
      "cell_type": "code",
      "execution_count": null,
      "id": "98967124",
      "metadata": {
        "colab": {
          "base_uri": "https://localhost:8080/"
        },
        "id": "98967124",
        "outputId": "c95dc4c4-c158-43a5-fdc4-18592f01b736"
      },
      "outputs": [
        {
          "output_type": "stream",
          "name": "stdout",
          "text": [
            "a is:\n",
            "[1, 2, 3]\n",
            "b is:\n",
            "[1, 2, 3]\n"
          ]
        }
      ],
      "source": [
        "#\n",
        "# Set a to contain a reference to a memory location, which contains the list object [1, 2, 3]\n",
        "#\n",
        "a = [1, 2, 3]\n",
        "#\n",
        "# Set b to contains the same reference as a\n",
        "#\n",
        "b = a\n",
        "#\n",
        "print(\"a is:\")\n",
        "print(a)\n",
        "print(\"b is:\")\n",
        "print(b)"
      ]
    },
    {
      "cell_type": "markdown",
      "id": "15caf88e",
      "metadata": {
        "id": "15caf88e"
      },
      "source": [
        "Now we change the 2nd element of a (bearing in mind that Python counts from 0), and see if this affects b:"
      ]
    },
    {
      "cell_type": "code",
      "execution_count": null,
      "id": "4852c8e7",
      "metadata": {
        "colab": {
          "base_uri": "https://localhost:8080/"
        },
        "id": "4852c8e7",
        "outputId": "b7193e61-321d-4d97-f251-41f23ca8334d"
      },
      "outputs": [
        {
          "output_type": "stream",
          "name": "stdout",
          "text": [
            "a is:\n",
            "[1, 9, 3]\n"
          ]
        }
      ],
      "source": [
        "#\n",
        "# Set the 2nd element of a to contain a reference to a memory location which contains the number 9\n",
        "#\n",
        "a[1] = 9\n",
        "#\n",
        "print(\"a is:\")\n",
        "print(a)"
      ]
    },
    {
      "cell_type": "markdown",
      "id": "11ae11b0",
      "metadata": {
        "id": "11ae11b0"
      },
      "source": [
        "*Can you write code in the cell below to find out the current value of b?*"
      ]
    },
    {
      "cell_type": "code",
      "execution_count": null,
      "id": "a1bc63a2",
      "metadata": {
        "colab": {
          "base_uri": "https://localhost:8080/"
        },
        "id": "a1bc63a2",
        "outputId": "37bda711-0a9e-4f58-dc07-e41b6a21443e"
      },
      "outputs": [
        {
          "output_type": "stream",
          "name": "stdout",
          "text": [
            "b is: \n",
            "[1, 9, 3]\n"
          ]
        }
      ],
      "source": [
        "#\n",
        "# You can put your code here\n",
        "#\n",
        "print(\"b is: \")\n",
        "print(b)"
      ]
    },
    {
      "cell_type": "markdown",
      "id": "01935466",
      "metadata": {
        "id": "01935466"
      },
      "source": [
        "What conclusions can you draw from these experiments?"
      ]
    }
  ],
  "metadata": {
    "kernelspec": {
      "display_name": "Python 3 (ipykernel)",
      "language": "python",
      "name": "python3"
    },
    "language_info": {
      "codemirror_mode": {
        "name": "ipython",
        "version": 3
      },
      "file_extension": ".py",
      "mimetype": "text/x-python",
      "name": "python",
      "nbconvert_exporter": "python",
      "pygments_lexer": "ipython3",
      "version": "3.7.13"
    },
    "colab": {
      "provenance": [],
      "include_colab_link": true
    }
  },
  "nbformat": 4,
  "nbformat_minor": 5
}